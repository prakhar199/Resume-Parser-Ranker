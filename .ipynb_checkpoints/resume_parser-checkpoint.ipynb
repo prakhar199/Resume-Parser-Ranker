{
 "cells": [
  {
   "cell_type": "code",
   "execution_count": 1,
   "metadata": {},
   "outputs": [],
   "source": [
    "# python libraries\n",
    "import json\n",
    "import pickle\n",
    "\n",
    "import pandas as pd\n",
    "import numpy as np\n",
    "\n",
    "# spacy libraries\n",
    "import spacy\n",
    "\n",
    "# custom libraries\n",
    "from nlpkit import utils, preprocessing"
   ]
  },
  {
   "cell_type": "markdown",
   "metadata": {},
   "source": [
    "# Resume Extraction"
   ]
  },
  {
   "cell_type": "code",
   "execution_count": 2,
   "metadata": {},
   "outputs": [
    {
     "data": {
      "text/plain": [
       "475"
      ]
     },
     "execution_count": 2,
     "metadata": {},
     "output_type": "execute_result"
    }
   ],
   "source": [
    "resume_data = pickle.load(open('Data/final_resume_data.pkl', 'rb'))\n",
    "len(resume_data)"
   ]
  },
  {
   "cell_type": "code",
   "execution_count": 3,
   "metadata": {},
   "outputs": [
    {
     "name": "stdout",
     "output_type": "stream",
     "text": [
      "Warning: Unnamed vectors -- this won't allow multiple vectors models to be loaded. (Shape: (0, 0))\n",
      "Running 20 iterations\n",
      "_____________________________________________\n",
      "Starting iteration  0\n",
      "{'ner': 8924.03648528628}\n",
      "Starting iteration  1\n",
      "{'ner': 6146.16288757886}\n",
      "Starting iteration  2\n",
      "{'ner': 5281.879819055038}\n",
      "Starting iteration  3\n",
      "{'ner': 4669.003352152871}\n",
      "Starting iteration  4\n",
      "{'ner': 4159.211908805633}\n",
      "Starting iteration  5\n",
      "{'ner': 3744.1734211295725}\n",
      "Starting iteration  6\n",
      "{'ner': 3580.5733910940953}\n",
      "Starting iteration  7\n",
      "{'ner': 3332.1170073340827}\n",
      "Starting iteration  8\n",
      "{'ner': 2997.3187021817007}\n",
      "Starting iteration  9\n",
      "{'ner': 2829.864798672448}\n",
      "Starting iteration  10\n",
      "{'ner': 2800.323055439523}\n",
      "Starting iteration  11\n",
      "{'ner': 2568.2558680938027}\n",
      "Starting iteration  12\n",
      "{'ner': 2269.0558546121083}\n",
      "Starting iteration  13\n",
      "{'ner': 2325.351636374326}\n",
      "Starting iteration  14\n",
      "{'ner': 2199.9722340469116}\n",
      "Starting iteration  15\n",
      "{'ner': 2039.3763493008623}\n",
      "Starting iteration  16\n",
      "{'ner': 1836.3662852016575}\n",
      "Starting iteration  17\n",
      "{'ner': 1765.3340730698296}\n",
      "Starting iteration  18\n",
      "{'ner': 1698.6872750076082}\n",
      "Starting iteration  19\n",
      "{'ner': 1680.9095658416882}\n"
     ]
    },
    {
     "data": {
      "text/plain": [
       "<spacy.lang.en.English at 0x7f49f3f6add8>"
      ]
     },
     "execution_count": 3,
     "metadata": {},
     "output_type": "execute_result"
    }
   ],
   "source": [
    "nlp = spacy.blank('en')\n",
    "utils.train_model(nlp, resume_data)\n",
    "nlp"
   ]
  },
  {
   "cell_type": "code",
   "execution_count": 4,
   "metadata": {},
   "outputs": [],
   "source": [
    "nlp.to_disk('resume_model')"
   ]
  },
  {
   "cell_type": "code",
   "execution_count": 6,
   "metadata": {},
   "outputs": [
    {
     "data": {
      "text/plain": [
       "<spacy.lang.en.English at 0x7f49f21120f0>"
      ]
     },
     "execution_count": 6,
     "metadata": {},
     "output_type": "execute_result"
    }
   ],
   "source": [
    "resume_model = spacy.load('resume_model')\n",
    "resume_model"
   ]
  },
  {
   "cell_type": "code",
   "execution_count": 15,
   "metadata": {},
   "outputs": [
    {
     "data": {
      "text/plain": [
       "{'name': ['Ozoemena Obiora'],\n",
       " 'designation': ['Senior Software Engineer'],\n",
       " 'college name': ['National Institute of Information Technology',\n",
       "  'Federal University of Petroleum Resources, Effurun, Delta State'],\n",
       " 'skills': ['CSS3',\n",
       "  'JavaScript',\n",
       "  'Wordpress',\n",
       "  'PHP',\n",
       "  'A business website for marketing of products. Currently supervising a hospital management software and a health mental website.',\n",
       "  'HTML5, CSS3, JavaScript, Bootstrap framework, MYSQL, PHP, xampp, apache, php api, json, ftp, photoshop and sftp',\n",
       "  'Html5, css3, bootstrap, javascript, ajax Backend PHP, JSON. Database MySQL, MSSQL, Apache.'],\n",
       " 'degree': ['e commerce',\n",
       "  'Davinco Tech. Solutions Ltd is a software IT Consultancy',\n",
       "  'B.Sc. Hons.'],\n",
       " 'email address': ['obioraozoemena@yahoo.com', 'obioraozoemena@gmail.com'],\n",
       " 'years of experience': ['5+ years']}"
      ]
     },
     "execution_count": 15,
     "metadata": {},
     "output_type": "execute_result"
    }
   ],
   "source": [
    "resume = utils.read_document('Data/Obiora-TechCv.docx')\n",
    "doc = resume_model(resume)\n",
    "preprocessing.extract_ents(doc)"
   ]
  },
  {
   "cell_type": "code",
   "execution_count": null,
   "metadata": {},
   "outputs": [],
   "source": []
  }
 ],
 "metadata": {
  "kernelspec": {
   "display_name": "Python 3",
   "language": "python",
   "name": "python3"
  },
  "language_info": {
   "codemirror_mode": {
    "name": "ipython",
    "version": 3
   },
   "file_extension": ".py",
   "mimetype": "text/x-python",
   "name": "python",
   "nbconvert_exporter": "python",
   "pygments_lexer": "ipython3",
   "version": "3.6.3"
  }
 },
 "nbformat": 4,
 "nbformat_minor": 4
}
